{
 "cells": [
  {
   "cell_type": "markdown",
   "metadata": {},
   "source": [
    "### **1. Project Objective**\n",
    "\n",
    "The central goal of this project is to explore and analyze a dataset comprising of forty soybean cultivars harvested over two consecutive seasons. The aim is to understand the factors influencing thousand seed weight (MHG) and grain yield (GY) among these cultivars, investigating seasonal changes in these metrics, and creating predictive models for estimating MHG in new cultivar types. Additionally, the project will also include cluster analysis to group similar cultivars based on their characteristics."
   ]
  },
  {
   "cell_type": "markdown",
   "metadata": {},
   "source": [
    "**Table of Contents**\n",
    "\n",
    "\n",
    "1. Project Objective\n",
    "\n",
    "2. Data Cleaning and Preprocessing\n",
    "\n",
    "3. Feature Engineering\n",
    "\n",
    "4. Exploratory Data Analysis (EDA)\n",
    "\n",
    "5. Most Important Factors for MHG    - Feature importance refers to techniques that assign a score to input features based on how useful they are at predicting a target variable. These scores help us understand which features play a crucial role in determining the outcome of a predictive model. Let’s explore some methods for calculating feature importance:\n",
    "\n",
    "Statistical Correlation Scores:\n",
    "Calculate correlation coefficients (such as Pearson’s correlation) between each feature and the target variable.\n",
    "Features with higher absolute correlation values are considered more important.\n",
    "\n",
    "6. Most Important Factors for GY    \n",
    "\n",
    "7. Seasonal Variations in MHG and GY\n",
    "\n",
    "8. Creating Synthetic Data for New Cultivar Prediction    - join tables  , train 2 tables, test mean of features\n",
    "\n",
    "9. Cluster Analysis\n",
    "\n",
    "10. Model Selection and Tuning\n",
    "\n",
    "11. Results\n",
    "\n",
    "12. Conclusions"
   ]
  },
  {
   "cell_type": "markdown",
   "metadata": {},
   "source": [
    "### **2. Data Cleaning and Preprocessing**"
   ]
  },
  {
   "cell_type": "code",
   "execution_count": 1,
   "metadata": {},
   "outputs": [
    {
     "name": "stdout",
     "output_type": "stream",
     "text": [
      "   Season    Cultivar  Repetition     PH    IFP    NLP     NGP   NGL   NS  \\\n",
      "0       1  NEO 760 CE           1  58.80  15.20   98.2  177.80  1.81  5.2   \n",
      "1       1  NEO 760 CE           2  58.60  13.40  102.0  195.00  1.85  7.2   \n",
      "2       1  NEO 760 CE           3  63.40  17.20  100.4  203.00  2.02  6.8   \n",
      "3       1  NEO 760 CE           4  60.27  15.27  100.2  191.93  1.89  6.4   \n",
      "4       1   MANU IPRO           1  81.20  18.00   98.8  173.00  1.75  7.4   \n",
      "\n",
      "      MHG       GY  \n",
      "0  152.20  3232.82  \n",
      "1  141.69  3517.36  \n",
      "2  148.81  3391.46  \n",
      "3  148.50  3312.58  \n",
      "4  145.59  3230.99  \n",
      "            Season    Cultivar  Repetition          PH       IFP         NLP  \\\n",
      "count   320.000000         320  320.000000  320.000000  320.0000  320.000000   \n",
      "unique         NaN          40         NaN         NaN       NaN         NaN   \n",
      "top            NaN  NEO 760 CE         NaN         NaN       NaN         NaN   \n",
      "freq           NaN           8         NaN         NaN       NaN         NaN   \n",
      "mean      1.500000         NaN    2.500000   68.386781   15.4650   59.088313   \n",
      "std       0.500783         NaN    1.119785    8.958194    3.0243   20.068187   \n",
      "min       1.000000         NaN    1.000000   47.600000    7.2000   20.200000   \n",
      "25%       1.000000         NaN    1.750000   62.950000   13.6000   44.350000   \n",
      "50%       1.500000         NaN    2.500000   67.200000   15.6000   54.500000   \n",
      "75%       2.000000         NaN    3.250000   74.347500   17.3300   71.220000   \n",
      "max       2.000000         NaN    4.000000   94.800000   26.4000  123.000000   \n",
      "\n",
      "               NGP         NGL          NS         MHG           GY  \n",
      "count   320.000000  320.000000  320.000000  320.000000   320.000000  \n",
      "unique         NaN         NaN         NaN         NaN          NaN  \n",
      "top            NaN         NaN         NaN         NaN          NaN  \n",
      "freq           NaN         NaN         NaN         NaN          NaN  \n",
      "mean    135.085844    2.290844    4.071656  168.322313  3418.553794  \n",
      "std      60.494529    0.840116    1.474531   19.625566   503.003602  \n",
      "min      47.800000    0.940000    0.400000  127.060000  1538.230000  \n",
      "25%      95.052500    2.000000    3.000000  153.845000  3126.611552  \n",
      "50%     123.000000    2.280000    3.800000  166.150000  3397.276724  \n",
      "75%     161.350000    2.480000    5.000000  183.182500  3708.262931  \n",
      "max     683.400000   14.860000    9.000000  216.000000  4930.000000  \n",
      "<class 'pandas.core.frame.DataFrame'>\n",
      "RangeIndex: 320 entries, 0 to 319\n",
      "Data columns (total 11 columns):\n",
      " #   Column      Non-Null Count  Dtype  \n",
      "---  ------      --------------  -----  \n",
      " 0   Season      320 non-null    int64  \n",
      " 1   Cultivar    320 non-null    object \n",
      " 2   Repetition  320 non-null    int64  \n",
      " 3   PH          320 non-null    float64\n",
      " 4   IFP         320 non-null    float64\n",
      " 5   NLP         320 non-null    float64\n",
      " 6   NGP         320 non-null    float64\n",
      " 7   NGL         320 non-null    float64\n",
      " 8   NS          320 non-null    float64\n",
      " 9   MHG         320 non-null    float64\n",
      " 10  GY          320 non-null    float64\n",
      "dtypes: float64(8), int64(2), object(1)\n",
      "memory usage: 27.6+ KB\n",
      "None\n"
     ]
    }
   ],
   "source": [
    "import pandas as pd\n",
    "\n",
    "data_path = \"./data/data.csv\"\n",
    "data = pd.read_csv(data_path)\n",
    "\n",
    "print(data.head())\n",
    "print(data.describe(include='all'))\n",
    "print(data.info())\n"
   ]
  },
  {
   "cell_type": "code",
   "execution_count": 3,
   "metadata": {},
   "outputs": [
    {
     "name": "stdout",
     "output_type": "stream",
     "text": [
      "       Cultivars  Maturation group  Seeds per meter/linear  \\\n",
      "0  FTR 3190 IPRO               9.0                    12.5   \n",
      "1  FTR 4288 IPRO               8.8                    11.0   \n",
      "2   NK 8770 IPRO               8.7                    16.0   \n",
      "3      M 8606I2X               8.6                    10.0   \n",
      "4    M 8644 IPRO               8.6                    11.0   \n",
      "\n",
      "   Density per meter/linear  \n",
      "0                    250000  \n",
      "1                    220000  \n",
      "2                    320000  \n",
      "3                    200000  \n",
      "4                    220000  \n",
      "            Cultivars  Maturation group  Seeds per meter/linear  \\\n",
      "count              40         40.000000               40.000000   \n",
      "unique             40               NaN                     NaN   \n",
      "top     FTR 3190 IPRO               NaN                     NaN   \n",
      "freq                1               NaN                     NaN   \n",
      "mean              NaN          8.042500               15.260000   \n",
      "std               NaN          0.461818                2.922749   \n",
      "min               NaN          6.200000               10.000000   \n",
      "25%               NaN          7.900000               13.750000   \n",
      "50%               NaN          8.000000               15.000000   \n",
      "75%               NaN          8.300000               17.250000   \n",
      "max               NaN          9.000000               21.900000   \n",
      "\n",
      "        Density per meter/linear  \n",
      "count                  40.000000  \n",
      "unique                       NaN  \n",
      "top                          NaN  \n",
      "freq                         NaN  \n",
      "mean               304450.000000  \n",
      "std                 58221.922913  \n",
      "min                200000.000000  \n",
      "25%                275000.000000  \n",
      "50%                300000.000000  \n",
      "75%                345000.000000  \n",
      "max                438000.000000  \n",
      "<class 'pandas.core.frame.DataFrame'>\n",
      "RangeIndex: 40 entries, 0 to 39\n",
      "Data columns (total 4 columns):\n",
      " #   Column                    Non-Null Count  Dtype  \n",
      "---  ------                    --------------  -----  \n",
      " 0   Cultivars                 40 non-null     object \n",
      " 1   Maturation group          40 non-null     float64\n",
      " 2   Seeds per meter/linear    40 non-null     float64\n",
      " 3   Density per meter/linear  40 non-null     int64  \n",
      "dtypes: float64(2), int64(1), object(1)\n",
      "memory usage: 1.4+ KB\n",
      "None\n"
     ]
    }
   ],
   "source": [
    "cultivars_path = './data/cultivars-description.ods'\n",
    "cultivars_data = pd.read_excel(cultivars_path, engine='odf')\n",
    "\n",
    "print(cultivars_data.head())\n",
    "print(cultivars_data.describe(include='all'))\n",
    "print(cultivars_data.info())"
   ]
  }
 ],
 "metadata": {
  "kernelspec": {
   "display_name": "Python 3",
   "language": "python",
   "name": "python3"
  },
  "language_info": {
   "codemirror_mode": {
    "name": "ipython",
    "version": 3
   },
   "file_extension": ".py",
   "mimetype": "text/x-python",
   "name": "python",
   "nbconvert_exporter": "python",
   "pygments_lexer": "ipython3",
   "version": "3.9.13"
  }
 },
 "nbformat": 4,
 "nbformat_minor": 2
}
